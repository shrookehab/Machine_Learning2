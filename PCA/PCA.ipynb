{
  "nbformat": 4,
  "nbformat_minor": 0,
  "metadata": {
    "colab": {
      "name": "PCA.ipynb",
      "provenance": [],
      "collapsed_sections": [],
      "authorship_tag": "ABX9TyOviegxciGQrD0lAnDq1y2p",
      "include_colab_link": true
    },
    "kernelspec": {
      "name": "python3",
      "display_name": "Python 3"
    },
    "language_info": {
      "name": "python"
    }
  },
  "cells": [
    {
      "cell_type": "markdown",
      "metadata": {
        "id": "view-in-github",
        "colab_type": "text"
      },
      "source": [
        "<a href=\"https://colab.research.google.com/github/shrookehab/Machine_Learning2/blob/main/PCA/PCA.ipynb\" target=\"_parent\"><img src=\"https://colab.research.google.com/assets/colab-badge.svg\" alt=\"Open In Colab\"/></a>"
      ]
    },
    {
      "cell_type": "code",
      "source": [
        "!git clone https://github.com/shrookehab/Machine_Learning2.git\n",
        "%cd   Machine_Learning2/PCA"
      ],
      "metadata": {
        "colab": {
          "base_uri": "https://localhost:8080/"
        },
        "id": "jw7uolCQfNq7",
        "outputId": "6b6a2847-bf52-4b94-f487-aa53f95af23d"
      },
      "execution_count": 19,
      "outputs": [
        {
          "output_type": "stream",
          "name": "stdout",
          "text": [
            "Cloning into 'Machine_Learning2'...\n",
            "remote: Enumerating objects: 52, done.\u001b[K\n",
            "remote: Counting objects: 100% (52/52), done.\u001b[K\n",
            "remote: Compressing objects: 100% (49/49), done.\u001b[K\n",
            "remote: Total 52 (delta 7), reused 0 (delta 0), pack-reused 0\u001b[K\n",
            "Unpacking objects: 100% (52/52), done.\n",
            "/content/Machine_Learning2/PCA/Machine_Learning2/PCA/Machine_Learning2/PCA\n"
          ]
        }
      ]
    },
    {
      "cell_type": "code",
      "execution_count": 72,
      "metadata": {
        "id": "N7DTD6xEW7_N"
      },
      "outputs": [],
      "source": [
        "import numpy as np\n",
        "import pandas as pd"
      ]
    },
    {
      "cell_type": "code",
      "source": [
        "class PCA ():\n",
        "  def __init__(self,n_components = 0.95):\n",
        "    self.n_components = n_components\n",
        "    if self.n_components > 1:\n",
        "        self.type = 'var'\n",
        "    else:\n",
        "        self.type = 'ratio'\n",
        "\n",
        "  def fit(self,X):\n",
        "\n",
        "    self.mean = np.mean(X, axis=0)\n",
        "    self.variance = np.std(X, axis=0)\n",
        "    Xnorm = (X - self.mean) / self.variance\n",
        "    covariance = np.cov(Xnorm.T)\n",
        "    eigenvalues, eigenvectors = np.linalg.eig(covariance)\n",
        "    eigenvaluesNorm = np.divide(eigenvalues, np.sum(eigenvalues))\n",
        "    cummulativeSum = np.cumsum(eigenvaluesNorm)\n",
        "    D = np.where(cummulativeSum<=self.n_components)\n",
        "    dim = np.asarray(D)\n",
        "    if self.type == 'ratio':\n",
        "      noOfComponents = dim.shape[1]\n",
        "    else:\n",
        "      noOfComponents = self.n_components\n",
        "    self.components = eigenvectors[0:noOfComponents]\n",
        "    X_new = np.dot(X, eigenvectors)\n",
        "    return X_new\n",
        "\n",
        "  def transform(self,Z):\n",
        "    Z_new = (Z - self.mean )/ self.variance\n",
        "    Z_new = Z_new * self.components\n",
        "\n",
        "    return Z_new\n",
        "\n",
        "  #optional \n",
        "  #def plot_explained_variance(self):\n"
      ],
      "metadata": {
        "id": "4ELdAo5eW_4x"
      },
      "execution_count": 97,
      "outputs": []
    },
    {
      "cell_type": "code",
      "source": [
        "data_path = './data.csv'  \n",
        "X = pd.read_csv(data_path)\n",
        "\n",
        "pca_section = PCA(0.95)\n",
        "X_transofmed = pca_section.fit(X)\n",
        "print(pca_section.components.shape)#return matrix (n,4)\n",
        "print(X_transofmed.shape)#return matrix (n,4)\n",
        "\n",
        "X_copy = X.copy()\n",
        "pca_section1 = PCA(10)\n",
        "X_transofmed1 = pca_section1.fit(X_copy)\n",
        "print(pca_section1.components.shape)#return matrix (n,4)\n",
        "print(X_transofmed1.shape) #return matrix (n,4)"
      ],
      "metadata": {
        "colab": {
          "base_uri": "https://localhost:8080/"
        },
        "id": "VjgQbTYMlaqI",
        "outputId": "18ccd6fa-6113-4c88-8256-abc7e83972bf"
      },
      "execution_count": 98,
      "outputs": [
        {
          "output_type": "stream",
          "name": "stdout",
          "text": [
            "(8, 17)\n",
            "(2951, 17)\n",
            "(10, 17)\n",
            "(2951, 17)\n"
          ]
        }
      ]
    },
    {
      "cell_type": "code",
      "source": [
        ""
      ],
      "metadata": {
        "id": "ul-_XXSMu3D3"
      },
      "execution_count": 95,
      "outputs": []
    }
  ]
}
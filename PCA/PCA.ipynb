{
  "nbformat": 4,
  "nbformat_minor": 0,
  "metadata": {
    "colab": {
      "name": "PCA.ipynb",
      "provenance": [],
      "collapsed_sections": [],
      "authorship_tag": "ABX9TyMXf5TLOQOGXkRU2CFv848C",
      "include_colab_link": true
    },
    "kernelspec": {
      "name": "python3",
      "display_name": "Python 3"
    },
    "language_info": {
      "name": "python"
    }
  },
  "cells": [
    {
      "cell_type": "markdown",
      "metadata": {
        "id": "view-in-github",
        "colab_type": "text"
      },
      "source": [
        "<a href=\"https://colab.research.google.com/github/shrookehab/Machine_Learning2/blob/main/PCA/PCA.ipynb\" target=\"_parent\"><img src=\"https://colab.research.google.com/assets/colab-badge.svg\" alt=\"Open In Colab\"/></a>"
      ]
    },
    {
      "cell_type": "code",
      "source": [
        "!git clone https://github.com/shrookehab/Machine_Learning2.git\n",
        "%cd   Machine_Learning2/PCA"
      ],
      "metadata": {
        "id": "jw7uolCQfNq7"
      },
      "execution_count": null,
      "outputs": []
    },
    {
      "cell_type": "code",
      "execution_count": 1,
      "metadata": {
        "id": "N7DTD6xEW7_N"
      },
      "outputs": [],
      "source": [
        "import numpy as np"
      ]
    },
    {
      "cell_type": "code",
      "source": [
        "class PCA ():\n",
        "\n",
        "    def __init__(self,n_components = 0.95):\n",
        "        self.n_components = self.n_components\n",
        "        if self.n_components > 1:\n",
        "            self.type = 'var'\n",
        "        else:\n",
        "            self.type = 'ratio'\n",
        "\n",
        "    def fit(self,X):\n",
        "\n",
        "        self.mean = np.mean(X, axis=0)\n",
        "        self.variance = np.std(X, axis=0)\n",
        "        Xnorm = (X - self.mean) / self.variance\n",
        "        covariance = np.cov(Xnorm.T)\n",
        "        eigenvalues, eigenvectors = np.linalg.eig(Xnorm)\n",
        "        eigenvaluesNorm = np.divide(eigenvalues, np.sum(eigenvalues))\n",
        "        cummulativeSum = np.cumsum(eigenvaluesNorm)\n",
        "        D = np.where(cummulativeSum==0.95)\n",
        "        noOfComponents = D+1\n",
        "        self.components = eigenvectors\n",
        "        X_new = eigenvaluesNorm * self.components * np.linalg.inv(covariance)\n",
        "        return X_new\n",
        "\n",
        "    def transform(self,Z):\n",
        "        Z_new = (Z - self.mean )/ self.variance\n",
        "        Z_new = Z_new * self.components\n",
        "\n",
        "        return Z_new\n",
        "\n",
        "    #optional \n",
        "    def plot_explained_variance(self):\n",
        "\n",
        "\n",
        "\n",
        "pca_section = PCA(n_components=0.95)\n",
        "X_transofmed = pca_section.fit(X)\n",
        "pca_section.components #return matrix (n,4)\n",
        "pca_section.explained_variance #return list len = 4\n"
      ],
      "metadata": {
        "id": "4ELdAo5eW_4x"
      },
      "execution_count": null,
      "outputs": []
    }
  ]
}
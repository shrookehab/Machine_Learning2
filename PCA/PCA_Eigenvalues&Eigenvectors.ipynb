{
  "nbformat": 4,
  "nbformat_minor": 0,
  "metadata": {
    "colab": {
      "name": "PCA_Eigenvalues&Eigenvectors.ipynb",
      "provenance": [],
      "collapsed_sections": [],
      "authorship_tag": "ABX9TyOJbfuLHoUTzcouezEWbOyt",
      "include_colab_link": true
    },
    "kernelspec": {
      "name": "python3",
      "display_name": "Python 3"
    },
    "language_info": {
      "name": "python"
    }
  },
  "cells": [
    {
      "cell_type": "markdown",
      "metadata": {
        "id": "view-in-github",
        "colab_type": "text"
      },
      "source": [
        "<a href=\"https://colab.research.google.com/github/shrookehab/Machine_Learning2/blob/main/PCA/PCA_Eigenvalues%26Eigenvectors.ipynb\" target=\"_parent\"><img src=\"https://colab.research.google.com/assets/colab-badge.svg\" alt=\"Open In Colab\"/></a>"
      ]
    },
    {
      "cell_type": "code",
      "source": [
        "!git clone https://github.com/shrookehab/Machine_Learning2.git\n",
        "%cd   Machine_Learning2/PCA"
      ],
      "metadata": {
        "colab": {
          "base_uri": "https://localhost:8080/"
        },
        "id": "jw7uolCQfNq7",
        "outputId": "4080c49e-4da7-4854-872a-4e3a42adeec9"
      },
      "execution_count": null,
      "outputs": [
        {
          "output_type": "stream",
          "name": "stdout",
          "text": [
            "Cloning into 'Machine_Learning2'...\n",
            "remote: Enumerating objects: 60, done.\u001b[K\n",
            "remote: Counting objects: 100% (60/60), done.\u001b[K\n",
            "remote: Compressing objects: 100% (57/57), done.\u001b[K\n",
            "remote: Total 60 (delta 8), reused 0 (delta 0), pack-reused 0\u001b[K\n",
            "Unpacking objects: 100% (60/60), done.\n",
            "/content/Machine_Learning2/PCA\n"
          ]
        }
      ]
    },
    {
      "cell_type": "code",
      "execution_count": null,
      "metadata": {
        "id": "N7DTD6xEW7_N"
      },
      "outputs": [],
      "source": [
        "import numpy as np\n",
        "import pandas as pd"
      ]
    },
    {
      "cell_type": "code",
      "source": [
        "class PCA ():\n",
        "  def __init__(self,n_components = 0.95):\n",
        "    self.n_components = n_components\n",
        "    if self.n_components > 1:\n",
        "        self.type = 'var'\n",
        "    else:\n",
        "        self.type = 'ratio'\n",
        "\n",
        "  def fit(self,X):\n",
        "\n",
        "    self.mean = np.mean(X, axis=0)\n",
        "    self.variance = np.std(X, axis=0)\n",
        "    Xnorm = (X - self.mean) / self.variance\n",
        "    covariance = np.cov(Xnorm.T)\n",
        "    eigenvalues, eigenvectors = np.linalg.eig(covariance)\n",
        "    if self.type == 'ratio':\n",
        "      eigenvaluesNorm = np.divide(eigenvalues, np.sum(eigenvalues))\n",
        "      cummulativeSum = np.cumsum(eigenvaluesNorm)\n",
        "      D = np.where(cummulativeSum<=self.n_components)\n",
        "      dim = np.asarray(D)\n",
        "      noOfComponents = dim.shape[1]\n",
        "    else:\n",
        "      noOfComponents = self.n_components\n",
        "    self.components = eigenvectors[:,0:noOfComponents]\n",
        "    X_new = np.dot(X, self.components)\n",
        "    return X_new\n",
        "\n",
        "  def transform(self,Z):\n",
        "    Z_new = (Z - self.mean )/ self.variance\n",
        "    Z_new = Z_new * self.components\n",
        "\n",
        "    return Z_new\n",
        "\n",
        "  #optional \n",
        "  #def plot_explained_variance(self):\n"
      ],
      "metadata": {
        "id": "4ELdAo5eW_4x"
      },
      "execution_count": 7,
      "outputs": []
    },
    {
      "cell_type": "code",
      "source": [
        "data_path = './data.csv'  \n",
        "X = pd.read_csv(data_path)\n",
        "\n",
        "pca_section = PCA(0.95)\n",
        "X_transofmed = pca_section.fit(X)\n",
        "print(pca_section.components.shape)\n",
        "print(X_transofmed.shape)\n",
        "\n",
        "X_copy = X.copy()\n",
        "pca_section1 = PCA(10)\n",
        "X_transofmed1 = pca_section1.fit(X_copy)\n",
        "print(pca_section1.components.shape)\n",
        "print(X_transofmed1.shape)"
      ],
      "metadata": {
        "colab": {
          "base_uri": "https://localhost:8080/"
        },
        "id": "VjgQbTYMlaqI",
        "outputId": "2b85971a-fdc4-4422-b501-632732060e7f"
      },
      "execution_count": 8,
      "outputs": [
        {
          "output_type": "stream",
          "name": "stdout",
          "text": [
            "(17, 8)\n",
            "(2951, 8)\n",
            "(17, 10)\n",
            "(2951, 10)\n"
          ]
        }
      ]
    },
    {
      "cell_type": "code",
      "source": [
        ""
      ],
      "metadata": {
        "id": "ul-_XXSMu3D3"
      },
      "execution_count": null,
      "outputs": []
    }
  ]
}